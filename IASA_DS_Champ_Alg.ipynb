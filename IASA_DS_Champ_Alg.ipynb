{
 "cells": [
  {
   "cell_type": "code",
   "execution_count": 1,
   "metadata": {},
   "outputs": [],
   "source": [
    "import pandas as pd\n",
    "from sklearn.model_selection import train_test_split\n",
    "import numpy as np\n",
    "\n",
    "import xgboost as xgb\n",
    "from sklearn.metrics import mean_squared_error, mean_absolute_percentage_error, mean_absolute_error\n"
   ]
  },
  {
   "cell_type": "code",
   "execution_count": 2,
   "metadata": {},
   "outputs": [],
   "source": [
    "def predict(data_set_addr: str, model_name: str = \"model_rmse.json\") -> np.ndarray:\n",
    "    \"\"\"\n",
    "    Function to predict outputs using trained model.\n",
    "    \"\"\"\n",
    "\n",
    "\n",
    "    df = pd.read_csv(data_set_addr)\n",
    "\n",
    "    \n",
    "    #Preparing input data to feed into the trained model \n",
    "    #(assuming data structure is the same as in \"TEST TASK (dataset).csv\")\n",
    "    \n",
    "\n",
    "    X = df[['total_sessions_day0', 'chapters_finished_day0', 'chapters_opened_day0',\n",
    "            'chapters_closed_day0', 'diamonds_received_day0', 'diamonds_spent_day0',\n",
    "            'tickets_spent_day0', 'retained_day1', 'retained_day3', 'retained_day7',\n",
    "            'app_sub_ltv_day0', 'app_iap_ltv_day0', 'ad_ltv_day0', 'media_source',\n",
    "            'platform', 'chapters_finished_session9', 'chapters_opened_session9',\n",
    "            'chapters_closed_session9', 'diamonds_spent_session9','tickets_spent_session9']]\n",
    "\n",
    "    ind_list = ['0', '1', '3', '7']\n",
    "    for i in range(1, 4):\n",
    "        for col_name in ['total_sessions', 'chapters_finished', 'chapters_opened', 'chapters_closed', \n",
    "                    'diamonds_received', 'diamonds_spent', 'tickets_spent']:\n",
    "            X['diff_' +  col_name + '_day' + ind_list[i]] = df[col_name + '_day' + ind_list[i]] - df[col_name + '_day' + ind_list[i-1]]\n",
    "\n",
    "    ind_list = ['0', '1', '3']\n",
    "    for i in range(1, 3):\n",
    "        for col_name in ['app_sub_ltv', 'app_iap_ltv', 'ad_ltv']:\n",
    "            X['diff_' +  col_name + '_day' + ind_list[i]] = df[col_name + '_day' + ind_list[i]] - df[col_name + '_day' + ind_list[i-1]]\n",
    "\n",
    "    X = pd.get_dummies(X, columns=['platform', 'media_source'])\n",
    "\n",
    "    #Now, that the dataset is prepared, let's load the trained model and get the prediction:\n",
    "\n",
    "    model_xgb = xgb.XGBRegressor()\n",
    "    model_xgb.load_model(model_name)\n",
    "\n",
    "    pred = model_xgb.predict(X)\n",
    "\n",
    "    return pred\n"
   ]
  },
  {
   "cell_type": "markdown",
   "metadata": {},
   "source": [
    "Вибір метрики RMSE для цієї моделі був обумовлений декількома факторами, а саме: мінімізація objective функції з частиною RMSE не призведе до сильної упередженості, а також відображає початкову гіпотезу, про зумовленість варіативності вхідних даних випадковими факторами, які можна вважати нормально розподіленими. \n",
    "\n",
    "MAPE не є оптимальною метрикою для мінімізації в даному випадку, оскільки цільова змінна часто набуває значень що близькі або дорівнюють нулю, а MAPE обчислюється за формулою:\n",
    "$$\\textrm{MAPE}=\\frac{100\\%}{n}\\sum_{i=1}^n \\left| \\frac{y_i-\\hat{y}_i}{y_i} \\right|,$$\n",
    "\n",
    "де $y_i$ $-$ значення цільової змінної, а $\\hat{y}_i$ $-$ передбачене значення. Тобто часто може відбуватися ділення на 0."
   ]
  }
 ],
 "metadata": {
  "kernelspec": {
   "display_name": "Python 3.9.5 ('base')",
   "language": "python",
   "name": "python3"
  },
  "language_info": {
   "codemirror_mode": {
    "name": "ipython",
    "version": 3
   },
   "file_extension": ".py",
   "mimetype": "text/x-python",
   "name": "python",
   "nbconvert_exporter": "python",
   "pygments_lexer": "ipython3",
   "version": "3.9.5"
  },
  "orig_nbformat": 4,
  "vscode": {
   "interpreter": {
    "hash": "8c273ae0bac5da026a1f0036f8fabdda48d7fe1a81c905415fa820d6756c4ce6"
   }
  }
 },
 "nbformat": 4,
 "nbformat_minor": 2
}
